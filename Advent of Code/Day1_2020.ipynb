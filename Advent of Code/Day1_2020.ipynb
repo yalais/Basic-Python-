{
 "cells": [
  {
   "cell_type": "code",
   "execution_count": 1,
   "id": "b7f9f74c",
   "metadata": {},
   "outputs": [],
   "source": [
    "with open ('Day1_2020.txt') as file:\n",
    "    data = file.readlines()\n",
    "    puzzle_input = [int(i.strip()) for i in data]"
   ]
  },
  {
   "cell_type": "code",
   "execution_count": 18,
   "id": "015f4c0d",
   "metadata": {},
   "outputs": [],
   "source": [
    "def solve(data):\n",
    "    for i in range(len(data)-1):\n",
    "        for j in range(i+1, len(data)):\n",
    "            if data[i] + data[j] == 2020:\n",
    "                print(data[i] * data[j])\n"
   ]
  },
  {
   "cell_type": "code",
   "execution_count": 19,
   "id": "5d0fcd60",
   "metadata": {
    "scrolled": true
   },
   "outputs": [
    {
     "name": "stdout",
     "output_type": "stream",
     "text": [
      "542619\n"
     ]
    }
   ],
   "source": [
    "solve(puzzle_input)"
   ]
  },
  {
   "cell_type": "markdown",
   "id": "371caccd",
   "metadata": {},
   "source": [
    "Part 2"
   ]
  },
  {
   "cell_type": "code",
   "execution_count": 1,
   "id": "38912eeb",
   "metadata": {},
   "outputs": [],
   "source": [
    "def solve2(data):\n",
    "    for i in range(len(data)-1):\n",
    "        for j in range(i+1, len(data)):\n",
    "            for z in range(j+1, len(data)):\n",
    "                if data[i] + data[j] + data[z] == 2020:\n",
    "                    print(data[i] * data[j] * data[z])"
   ]
  },
  {
   "cell_type": "code",
   "execution_count": 34,
   "id": "e34a6f1e",
   "metadata": {
    "scrolled": true
   },
   "outputs": [
    {
     "name": "stdout",
     "output_type": "stream",
     "text": [
      "32858450\n"
     ]
    }
   ],
   "source": [
    "solve2(puzzle_input)"
   ]
  },
  {
   "cell_type": "markdown",
   "id": "c295d2a7",
   "metadata": {},
   "source": [
    "Wieso i+1,j+1 etc:\n",
    "wenn die Nummerierungen weggelassen werden, werden die Resultate mehrmals ausgegeben?"
   ]
  }
 ],
 "metadata": {
  "kernelspec": {
   "display_name": "Python 3",
   "language": "python",
   "name": "python3"
  },
  "language_info": {
   "codemirror_mode": {
    "name": "ipython",
    "version": 3
   },
   "file_extension": ".py",
   "mimetype": "text/x-python",
   "name": "python",
   "nbconvert_exporter": "python",
   "pygments_lexer": "ipython3",
   "version": "3.8.8"
  }
 },
 "nbformat": 4,
 "nbformat_minor": 5
}
