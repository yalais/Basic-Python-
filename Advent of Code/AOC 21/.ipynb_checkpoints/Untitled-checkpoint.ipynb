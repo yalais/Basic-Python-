{
 "cells": [
  {
   "cell_type": "code",
   "execution_count": 50,
   "id": "2fc167fd",
   "metadata": {},
   "outputs": [
    {
     "name": "stdout",
     "output_type": "stream",
     "text": [
      "[0, 1, 1, 0, 0, 1, 0, 1, 0, 0, 0, 0] [1, 0, 0, 1, 1, 0, 1, 0, 1, 1, 1, 1]\n",
      "100110101111\n",
      "011001010000\n",
      "2479\n",
      "1616\n",
      "4006064\n"
     ]
    }
   ],
   "source": [
    "with open ('Day3_2021.txt') as f:\n",
    "    line = f.read().split()\n",
    "    #print(line)\n",
    "    #['00100', '11110', '10110', '10111', '10101', '01111', '00111', '11100', '10000', '11001', '00010', '01010']\n",
    "    \n",
    "    # erste Zahl im ersten Elemente mit erster Zahl im zweiten Element vergleichen usw...\n",
    "    gamma = []\n",
    "    liste = []\n",
    "    epsilon = []\n",
    "    for x in range(len(line[0])):\n",
    "        for i in line:\n",
    "            liste.append(i[x])\n",
    "\n",
    "        if (liste.count(\"0\")) > (liste.count(\"1\")):\n",
    "            gamma.append(0), epsilon.append(1)\n",
    "        else:\n",
    "            gamma.append(1), epsilon.append(0)\n",
    "        liste = []\n",
    "\n",
    "    print(gamma, epsilon)\n",
    "\n",
    "    # als String speichern\n",
    "    gamma2 = \"\"\n",
    "    epsilon2 = \"\"\n",
    "    for i in gamma:\n",
    "        gamma2 += str(i)\n",
    "\n",
    "    for i in epsilon:\n",
    "        epsilon2 += str(i)\n",
    "\n",
    "    print(epsilon2)\n",
    "    print(gamma2)\n",
    "\n",
    "\n",
    "    # Umwandeln in Dezimal\n",
    "    gamma2 = int(gamma2,2)\n",
    "    epsilon2 = int(epsilon2,2)\n",
    "\n",
    "    print(epsilon2)\n",
    "    print(gamma2)\n",
    "\n",
    "    # Resultat ausgeben\n",
    "    resultat = gamma2 * epsilon2\n",
    "    print(resultat)"
   ]
  },
  {
   "cell_type": "markdown",
   "id": "31813767",
   "metadata": {},
   "source": [
    "Part 2"
   ]
  },
  {
   "cell_type": "code",
   "execution_count": null,
   "id": "4a077035",
   "metadata": {},
   "outputs": [],
   "source": []
  },
  {
   "cell_type": "code",
   "execution_count": null,
   "id": "ab277d28",
   "metadata": {},
   "outputs": [],
   "source": []
  }
 ],
 "metadata": {
  "kernelspec": {
   "display_name": "Python 3",
   "language": "python",
   "name": "python3"
  },
  "language_info": {
   "codemirror_mode": {
    "name": "ipython",
    "version": 3
   },
   "file_extension": ".py",
   "mimetype": "text/x-python",
   "name": "python",
   "nbconvert_exporter": "python",
   "pygments_lexer": "ipython3",
   "version": "3.8.8"
  }
 },
 "nbformat": 4,
 "nbformat_minor": 5
}
