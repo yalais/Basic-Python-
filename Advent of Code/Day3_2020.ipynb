{
 "cells": [
  {
   "cell_type": "code",
   "execution_count": 1,
   "id": "ad8dd79b",
   "metadata": {},
   "outputs": [],
   "source": [
    "with open('Day3.txt')as file:\n",
    "    map = file.readlines()\n",
    "    map =[line.strip() for line in map]\n"
   ]
  },
  {
   "cell_type": "code",
   "execution_count": 9,
   "id": "da64ac43",
   "metadata": {},
   "outputs": [
    {
     "name": "stdout",
     "output_type": "stream",
     "text": [
      "284\n"
     ]
    }
   ],
   "source": [
    "treeCount = 0\n",
    "row, col = 0,0\n",
    "\n",
    "while row+1 < len(map):\n",
    "    row += 1\n",
    "    col += 3\n",
    "    space  = map[row][col % len(map[row])]\n",
    "    if space == '#':\n",
    "        treeCount += 1\n",
    "        \n",
    "print(treeCount)\n"
   ]
  },
  {
   "cell_type": "code",
   "execution_count": 11,
   "id": "523098a9",
   "metadata": {},
   "outputs": [
    {
     "name": "stdout",
     "output_type": "stream",
     "text": [
      "3510149120\n"
     ]
    }
   ],
   "source": [
    "# Part two\n",
    "total = 1\n",
    "slopes = [(1,1), (3,1), (5,1), (7,1), (1,2)]\n",
    "\n",
    "for k in slopes:\n",
    "    treeCount = 0\n",
    "    row, col = 0,0\n",
    "\n",
    "    while row+1 < len(map):\n",
    "        row += k[1]\n",
    "        col += k[0]\n",
    "        space  = map[row][col % len(map[row])]\n",
    "        if space == '#':\n",
    "            treeCount += 1\n",
    "    total *= treeCount\n",
    "print(total)"
   ]
  }
 ],
 "metadata": {
  "kernelspec": {
   "display_name": "Python 3",
   "language": "python",
   "name": "python3"
  },
  "language_info": {
   "codemirror_mode": {
    "name": "ipython",
    "version": 3
   },
   "file_extension": ".py",
   "mimetype": "text/x-python",
   "name": "python",
   "nbconvert_exporter": "python",
   "pygments_lexer": "ipython3",
   "version": "3.8.8"
  }
 },
 "nbformat": 4,
 "nbformat_minor": 5
}
