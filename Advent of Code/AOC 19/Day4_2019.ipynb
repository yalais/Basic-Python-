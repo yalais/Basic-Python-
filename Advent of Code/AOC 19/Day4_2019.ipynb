{
 "cells": [
  {
   "cell_type": "code",
   "execution_count": 13,
   "metadata": {},
   "outputs": [],
   "source": [
    "Puzzle_low = 123257\n",
    "Puzzle_high = 647015\n",
    "pwdlist = []\n",
    "\n",
    "def increase(number):\n",
    "    datastr = str(number)\n",
    "    highest = int(datastr[0])\n",
    "    passes = False\n",
    "    for i in range(1, len(datastr)):\n",
    "        currentNum = int(datastr[i])\n",
    "        if (currentNum >= highest):\n",
    "            passes = True\n",
    "            highest = currentNum\n",
    "        else: passes = False\n",
    "        break\n",
    "    return passes\n",
    "\n",
    "def twotimes(number):\n",
    "    datastr = str(number)\n",
    "    passes = False\n",
    "    lastnum = int(datastr[0])\n",
    "    for i in range(1 , len(datastr)):\n",
    "        currentNum = int(datastr[0])\n",
    "        if (currentNum == lastnum):\n",
    "            passes = True\n",
    "            break\n",
    "        lastnum = currentNum\n",
    "    return passes\n"
   ]
  },
  {
   "cell_type": "code",
   "execution_count": 14,
   "metadata": {},
   "outputs": [],
   "source": [
    "sum = 0\n",
    "for i in range(Puzzle_low,Puzzle_high+1):\n",
    "    passtwotimes = twotimes(i)\n",
    "    passincrease = increase(i)\n",
    "    if (passtwotimes and passincrease):\n",
    "        sum += 1\n",
    "    "
   ]
  },
  {
   "cell_type": "code",
   "execution_count": 15,
   "metadata": {},
   "outputs": [
    {
     "data": {
      "text/plain": [
       "336743"
      ]
     },
     "execution_count": 15,
     "metadata": {},
     "output_type": "execute_result"
    }
   ],
   "source": [
    "sum"
   ]
  },
  {
   "cell_type": "code",
   "execution_count": 16,
   "metadata": {},
   "outputs": [
    {
     "data": {
      "text/plain": [
       "523758"
      ]
     },
     "execution_count": 16,
     "metadata": {},
     "output_type": "execute_result"
    }
   ],
   "source": [
    "Puzzle_high - Puzzle_low"
   ]
  }
 ],
 "metadata": {
  "interpreter": {
   "hash": "780e223e49c598b4aa82d8318c6f1e6744c8b409488091a69e61e480bdf1c54b"
  },
  "kernelspec": {
   "display_name": "Python 3.8.8 64-bit ('base': conda)",
   "language": "python",
   "name": "python3"
  },
  "language_info": {
   "codemirror_mode": {
    "name": "ipython",
    "version": 3
   },
   "file_extension": ".py",
   "mimetype": "text/x-python",
   "name": "python",
   "nbconvert_exporter": "python",
   "pygments_lexer": "ipython3",
   "version": "3.8.8"
  },
  "orig_nbformat": 4
 },
 "nbformat": 4,
 "nbformat_minor": 2
}
