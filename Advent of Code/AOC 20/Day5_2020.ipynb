{
 "cells": [
  {
   "cell_type": "code",
   "execution_count": 1,
   "id": "87142334",
   "metadata": {},
   "outputs": [],
   "source": [
    "with open ('Day5_2020.txt') as file:\n",
    "    puzzle = file.readlines()\n",
    "    puzzle = [i.strip() for i in puzzle]"
   ]
  },
  {
   "cell_type": "code",
   "execution_count": 2,
   "id": "3a44b5d7",
   "metadata": {},
   "outputs": [],
   "source": [
    "def get_row(data):\n",
    "    lower = 0\n",
    "    upper = 127\n",
    "    half = (upper + lower) // 2\n",
    "    \n",
    "    for i in range(6):\n",
    "        if data[i] == 'F':\n",
    "            upper = half\n",
    "        elif data[i] == 'B':\n",
    "            lower = half +1\n",
    "        \n",
    "    if data[6] == 'F':\n",
    "        return lower\n",
    "    elif data[6] == 'B':\n",
    "        return upper"
   ]
  },
  {
   "cell_type": "code",
   "execution_count": 3,
   "id": "5589e08d",
   "metadata": {},
   "outputs": [],
   "source": [
    "def get_seat(data):\n",
    "    lower = 0\n",
    "    upper = 7\n",
    "    half = (upper + lower) // 2  \n",
    "    for i in range(2):\n",
    "        if data[i] == 'L':\n",
    "            upper = half\n",
    "        elif data [i] == 'R':\n",
    "            lower = half +1\n",
    "        \n",
    "    if data[2] == 'L':\n",
    "        return lower\n",
    "    elif data [i] == 'R':\n",
    "        return upper"
   ]
  },
  {
   "cell_type": "code",
   "execution_count": 7,
   "id": "2126ba3d",
   "metadata": {},
   "outputs": [],
   "source": [
    "get_seat(puzzle)"
   ]
  },
  {
   "cell_type": "code",
   "execution_count": 5,
   "id": "273fddc4",
   "metadata": {},
   "outputs": [
    {
     "ename": "TypeError",
     "evalue": "unsupported operand type(s) for +: 'int' and 'NoneType'",
     "output_type": "error",
     "traceback": [
      "\u001b[1;31m---------------------------------------------------------------------------\u001b[0m",
      "\u001b[1;31mTypeError\u001b[0m                                 Traceback (most recent call last)",
      "\u001b[1;32m<ipython-input-5-e72f92a3ce22>\u001b[0m in \u001b[0;36m<module>\u001b[1;34m\u001b[0m\n\u001b[0;32m      3\u001b[0m     \u001b[0mrow\u001b[0m \u001b[1;33m=\u001b[0m \u001b[0mget_row\u001b[0m\u001b[1;33m(\u001b[0m\u001b[0mdata\u001b[0m\u001b[1;33m[\u001b[0m\u001b[1;33m:\u001b[0m\u001b[1;36m7\u001b[0m\u001b[1;33m]\u001b[0m\u001b[1;33m)\u001b[0m\u001b[1;33m\u001b[0m\u001b[1;33m\u001b[0m\u001b[0m\n\u001b[0;32m      4\u001b[0m     \u001b[0mseat\u001b[0m \u001b[1;33m=\u001b[0m \u001b[0mget_seat\u001b[0m\u001b[1;33m(\u001b[0m\u001b[0mdata\u001b[0m\u001b[1;33m[\u001b[0m\u001b[1;36m7\u001b[0m\u001b[1;33m:\u001b[0m\u001b[1;33m]\u001b[0m\u001b[1;33m)\u001b[0m\u001b[1;33m\u001b[0m\u001b[1;33m\u001b[0m\u001b[0m\n\u001b[1;32m----> 5\u001b[1;33m     \u001b[0mid\u001b[0m \u001b[1;33m=\u001b[0m \u001b[0mrow\u001b[0m \u001b[1;33m*\u001b[0m \u001b[1;36m8\u001b[0m \u001b[1;33m+\u001b[0m \u001b[0mseat\u001b[0m\u001b[1;33m\u001b[0m\u001b[1;33m\u001b[0m\u001b[0m\n\u001b[0m\u001b[0;32m      6\u001b[0m \u001b[1;33m\u001b[0m\u001b[0m\n\u001b[0;32m      7\u001b[0m     \u001b[1;32mif\u001b[0m \u001b[0mid\u001b[0m \u001b[1;33m>\u001b[0m \u001b[0mlargest\u001b[0m\u001b[1;33m:\u001b[0m\u001b[1;33m\u001b[0m\u001b[1;33m\u001b[0m\u001b[0m\n",
      "\u001b[1;31mTypeError\u001b[0m: unsupported operand type(s) for +: 'int' and 'NoneType'"
     ]
    }
   ],
   "source": [
    "largest = 0\n",
    "for data in puzzle:\n",
    "    row = get_row(data[:7])\n",
    "    seat = get_seat(data[7:])\n",
    "    id = row * 8 + seat\n",
    "    \n",
    "    if id > largest:\n",
    "        largest = id\n",
    "print(largest)"
   ]
  }
 ],
 "metadata": {
  "kernelspec": {
   "display_name": "Python 3",
   "language": "python",
   "name": "python3"
  },
  "language_info": {
   "codemirror_mode": {
    "name": "ipython",
    "version": 3
   },
   "file_extension": ".py",
   "mimetype": "text/x-python",
   "name": "python",
   "nbconvert_exporter": "python",
   "pygments_lexer": "ipython3",
   "version": "3.8.8"
  }
 },
 "nbformat": 4,
 "nbformat_minor": 5
}
