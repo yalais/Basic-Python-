{
 "cells": [
  {
   "cell_type": "code",
   "execution_count": 1,
   "id": "88ce2d07",
   "metadata": {
    "scrolled": false
   },
   "outputs": [
    {
     "name": "stdout",
     "output_type": "stream",
     "text": [
      "['55131', '114008', '145297', '76135', '50317', '134036', '122136', '97704', '51245', '141732', '120427', '142020', '88166', '55313', '110391', '112436', '78195', '74294', '128984', '68240', '137098', '142016', '83577', '89257', '107744', '67357', '131342', '98247', '137501', '134577', '65696', '84925', '50159', '110319', '91921', '103303', '84505', '84683', '100811', '82626', '66774', '123216', '95151', '88237', '60705', '124319', '102926', '143160', '92780', '64283', '132434', '113935', '84907', '113698', '117240', '129327', '78837', '144841', '138054', '130990', '100191', '141768', '138941', '108165', '62138', '121690', '117305', '90147', '134422', '78031', '121331', '120947', '120235', '138880', '141076', '119480', '66844', '77660', '106364', '99187', '144244', '120483', '77715', '135703', '125521', '123253', '127556', '96458', '91965', '73924', '95176', '87540', '122083', '146013', '67761', '100413', '145994', '149450', '94330', '112824']\n"
     ]
    }
   ],
   "source": [
    "with open ('Day1_2019.txt') as file:\n",
    "    data = file.readlines()\n",
    "    data = [line.strip() for line in data]\n",
    "    \n",
    "print(data)"
   ]
  },
  {
   "cell_type": "code",
   "execution_count": 2,
   "id": "9a407c4b",
   "metadata": {},
   "outputs": [
    {
     "name": "stdout",
     "output_type": "stream",
     "text": [
      "[55131, 114008, 145297, 76135, 50317, 134036, 122136, 97704, 51245, 141732, 120427, 142020, 88166, 55313, 110391, 112436, 78195, 74294, 128984, 68240, 137098, 142016, 83577, 89257, 107744, 67357, 131342, 98247, 137501, 134577, 65696, 84925, 50159, 110319, 91921, 103303, 84505, 84683, 100811, 82626, 66774, 123216, 95151, 88237, 60705, 124319, 102926, 143160, 92780, 64283, 132434, 113935, 84907, 113698, 117240, 129327, 78837, 144841, 138054, 130990, 100191, 141768, 138941, 108165, 62138, 121690, 117305, 90147, 134422, 78031, 121331, 120947, 120235, 138880, 141076, 119480, 66844, 77660, 106364, 99187, 144244, 120483, 77715, 135703, 125521, 123253, 127556, 96458, 91965, 73924, 95176, 87540, 122083, 146013, 67761, 100413, 145994, 149450, 94330, 112824]\n"
     ]
    }
   ],
   "source": [
    "int_list = list(map(int, data))\n",
    "print(int_list)"
   ]
  },
  {
   "cell_type": "code",
   "execution_count": 7,
   "id": "c946b5ea",
   "metadata": {},
   "outputs": [
    {
     "data": {
      "text/plain": [
       "3514064"
      ]
     },
     "execution_count": 7,
     "metadata": {},
     "output_type": "execute_result"
    }
   ],
   "source": [
    "summe = 0\n",
    "for i in (int_list):\n",
    "    summe += (i//3) - 2\n",
    "    \n",
    "summe"
   ]
  },
  {
   "cell_type": "markdown",
   "id": "cb013e4a",
   "metadata": {},
   "source": [
    "Aufgabe 2"
   ]
  },
  {
   "cell_type": "code",
   "execution_count": 8,
   "id": "747e6a24",
   "metadata": {},
   "outputs": [],
   "source": []
  },
  {
   "cell_type": "code",
   "execution_count": 9,
   "id": "3ac3d4b8",
   "metadata": {},
   "outputs": [
    {
     "data": {
      "text/plain": [
       "1756986"
      ]
     },
     "execution_count": 9,
     "metadata": {},
     "output_type": "execute_result"
    }
   ],
   "source": [
    "s2 = summe\n",
    "summe2 = 0\n",
    "\n",
    "while s2 > 0:\n",
    "    a = (s2//3) - 2\n",
    "    summe2 += a\n",
    "    s2 = a\n",
    "    \n",
    "summe2"
   ]
  },
  {
   "cell_type": "code",
   "execution_count": 5,
   "id": "86c5a4bd",
   "metadata": {},
   "outputs": [
    {
     "data": {
      "text/plain": [
       "5270958"
      ]
     },
     "execution_count": 5,
     "metadata": {},
     "output_type": "execute_result"
    }
   ],
   "source": []
  },
  {
   "cell_type": "code",
   "execution_count": null,
   "id": "24720a2e",
   "metadata": {},
   "outputs": [],
   "source": []
  }
 ],
 "metadata": {
  "kernelspec": {
   "display_name": "Python 3",
   "language": "python",
   "name": "python3"
  },
  "language_info": {
   "codemirror_mode": {
    "name": "ipython",
    "version": 3
   },
   "file_extension": ".py",
   "mimetype": "text/x-python",
   "name": "python",
   "nbconvert_exporter": "python",
   "pygments_lexer": "ipython3",
   "version": "3.8.8"
  }
 },
 "nbformat": 4,
 "nbformat_minor": 5
}
