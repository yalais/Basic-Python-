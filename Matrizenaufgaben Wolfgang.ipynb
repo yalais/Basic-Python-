{
 "cells": [
  {
   "cell_type": "code",
   "execution_count": 1,
   "metadata": {},
   "outputs": [
    {
     "data": {
      "text/plain": [
       "False"
      ]
     },
     "execution_count": 1,
     "metadata": {},
     "output_type": "execute_result"
    }
   ],
   "source": [
    "#Aufgabe 1 Quadtratische Matrizen\n",
    "\n",
    "def well_formed_matrix(m):\n",
    "    if len(m) < 2: return False #ansonsten Vektor oder nichts vorhanden\n",
    "\n",
    "    for i in range(len(m)):\n",
    "        if len(m) != len(m[i]): return False\n",
    "        else: return True\n",
    "\n",
    "m1 = []\n",
    "m2 = [[],[]]\n",
    "m3 = [[1],[1,2]]\n",
    "m4 = [[0,0],[1,2]]\n",
    "m5 = [[[1,3,4], [4,2,3], [2,4,5]]]\n",
    "m6 = [[1,2,3],[1,2,3]]\n",
    "\n",
    "well_formed_matrix(m5)\n",
    "# wieso wird Matrize m5 als false angegeben"
   ]
  },
  {
   "cell_type": "code",
   "execution_count": 13,
   "metadata": {},
   "outputs": [
    {
     "data": {
      "text/plain": [
       "False"
      ]
     },
     "execution_count": 13,
     "metadata": {},
     "output_type": "execute_result"
    }
   ],
   "source": [
    "#Aufgabe 2\n",
    "\n",
    "\n",
    "def transpose(m):\n",
    "    if well_formed_matrix(m) == False: return False\n",
    "    else:\n",
    "        t = [i for i in range(len(m))]\n",
    "        return t\n",
    "    \n",
    "transpose(m3)"
   ]
  },
  {
   "cell_type": "code",
   "execution_count": 14,
   "metadata": {},
   "outputs": [
    {
     "name": "stdout",
     "output_type": "stream",
     "text": [
      "[[1, 0], [0, 2], [3, 4]]\n"
     ]
    },
    {
     "data": {
      "text/plain": [
       "[[1, 0], [0, 2], [3, 4]]"
      ]
     },
     "execution_count": 14,
     "metadata": {},
     "output_type": "execute_result"
    }
   ],
   "source": [
    "def transponse3(n):\n",
    "    return [[row[i] for row in n] for i in range(len(n[0]))]\n",
    "\n",
    "transponse3([[1,0,3],[0,2,4]])"
   ]
  }
 ],
 "metadata": {
  "interpreter": {
   "hash": "780e223e49c598b4aa82d8318c6f1e6744c8b409488091a69e61e480bdf1c54b"
  },
  "kernelspec": {
   "display_name": "Python 3.8.8 64-bit ('base': conda)",
   "language": "python",
   "name": "python3"
  },
  "language_info": {
   "codemirror_mode": {
    "name": "ipython",
    "version": 3
   },
   "file_extension": ".py",
   "mimetype": "text/x-python",
   "name": "python",
   "nbconvert_exporter": "python",
   "pygments_lexer": "ipython3",
   "version": "3.8.8"
  },
  "orig_nbformat": 4
 },
 "nbformat": 4,
 "nbformat_minor": 2
}
