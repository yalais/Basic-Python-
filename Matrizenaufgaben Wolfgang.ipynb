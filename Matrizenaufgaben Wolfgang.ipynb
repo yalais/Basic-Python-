{
 "cells": [
  {
   "cell_type": "code",
   "execution_count": 4,
   "metadata": {},
   "outputs": [
    {
     "data": {
      "text/plain": [
       "True"
      ]
     },
     "execution_count": 4,
     "metadata": {},
     "output_type": "execute_result"
    }
   ],
   "source": [
    "#Aufgabe 1 Quadtratische Matrizen\n",
    "\n",
    "def well_formed_matrix(m):\n",
    "    if len(m) < 2: return False #ansonsten Vektor oder nichts vorhanden\n",
    "    else:\n",
    "        row = len(m)\n",
    "        column= len(m[0])\n",
    "        if row == column: return True \n",
    "        else: return False\n",
    "\n",
    "    \n",
    "\n",
    "m1 = []\n",
    "m2 = [[],[]]\n",
    "m3 = [[1],[1,2]]\n",
    "m4 = [[0,0],[1,2]]\n",
    "m5 = [[1,3,4],[4,2,3],[2,4,5]]\n",
    "m6 = [[1,2,3],[1,2,3]]\n",
    "\n",
    "well_formed_matrix(m5)\n"
   ]
  },
  {
   "cell_type": "code",
   "execution_count": 10,
   "metadata": {},
   "outputs": [
    {
     "data": {
      "text/plain": [
       "[[1, 4, 2], [3, 2, 4], [4, 3, 5]]"
      ]
     },
     "execution_count": 10,
     "metadata": {},
     "output_type": "execute_result"
    }
   ],
   "source": [
    "#Musterlösung Aufgabe 2 -> 1./2./etc. Element aller Listen werden in eine neue Liste gepackt -> solange anzahl Listenn -> solange länge 1. Liste\n",
    "def transponse3(matrize):\n",
    "    return [[list[number] for list in matrize] for number in range(len(matrize[0]))]\n",
    "\n",
    "transponse3(m5)"
   ]
  },
  {
   "cell_type": "code",
   "execution_count": 7,
   "metadata": {},
   "outputs": [
    {
     "data": {
      "text/plain": [
       "2"
      ]
     },
     "execution_count": 7,
     "metadata": {},
     "output_type": "execute_result"
    }
   ],
   "source": []
  }
 ],
 "metadata": {
  "interpreter": {
   "hash": "780e223e49c598b4aa82d8318c6f1e6744c8b409488091a69e61e480bdf1c54b"
  },
  "kernelspec": {
   "display_name": "Python 3.8.8 64-bit ('base': conda)",
   "language": "python",
   "name": "python3"
  },
  "language_info": {
   "codemirror_mode": {
    "name": "ipython",
    "version": 3
   },
   "file_extension": ".py",
   "mimetype": "text/x-python",
   "name": "python",
   "nbconvert_exporter": "python",
   "pygments_lexer": "ipython3",
   "version": "3.8.8"
  },
  "orig_nbformat": 4
 },
 "nbformat": 4,
 "nbformat_minor": 2
}
