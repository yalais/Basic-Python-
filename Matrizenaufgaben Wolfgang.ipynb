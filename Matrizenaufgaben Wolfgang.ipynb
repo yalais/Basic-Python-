{
 "cells": [
  {
   "cell_type": "code",
   "execution_count": 48,
   "metadata": {},
   "outputs": [
    {
     "data": {
      "text/plain": [
       "[[1, 3, 4]]"
      ]
     },
     "execution_count": 48,
     "metadata": {},
     "output_type": "execute_result"
    }
   ],
   "source": [
    "#Aufgabe 1 Quadtratische Matrizen\n",
    "\n",
    "def well_formed_matrix(m):\n",
    "    if len(m) < 2: return False #ansonsten Vektor oder nichts vorhanden\n",
    "    else:\n",
    "        row = len(m)\n",
    "        column= len(m[0])\n",
    "        if row == column: return True \n",
    "        else: return False\n",
    "\n",
    "    \n",
    "\n",
    "m1 = []\n",
    "m2 = [[],[]]\n",
    "m3 = [[1],[1,2]]\n",
    "m4 = [[0,0],[1,2]]\n",
    "m5 = [[1,3,4],[4,2,3],[2,4,5]]\n",
    "m6 = [[1,2,3],[1,2,3]]\n",
    "\n",
    "well_formed_matrix(m5)\n",
    "\n",
    "m5[:1]"
   ]
  },
  {
   "cell_type": "code",
   "execution_count": 49,
   "metadata": {},
   "outputs": [
    {
     "data": {
      "text/plain": [
       "[[1, 4, 2], [3, 2, 4], [4, 3, 5]]"
      ]
     },
     "execution_count": 49,
     "metadata": {},
     "output_type": "execute_result"
    }
   ],
   "source": [
    "#Musterlösung Aufgabe 2 -> 1./2./etc. Element aller Listen werden in eine neue Liste gepackt -> solange anzahl Listenn -> solange länge 1. Liste\n",
    "def transpose3(matrize):\n",
    "    return [[list[number] for list in matrize] for number in range(len(matrize[0]))]\n",
    "\n",
    "transpose3(m5)"
   ]
  },
  {
   "cell_type": "code",
   "execution_count": 50,
   "metadata": {},
   "outputs": [
    {
     "data": {
      "text/plain": [
       "(3, 3, [1, 3, 4, 4, 2, 3, 2, 4, 5])"
      ]
     },
     "execution_count": 50,
     "metadata": {},
     "output_type": "execute_result"
    }
   ],
   "source": [
    "# Aufgabe 3\n",
    "'''Matrix in Listen-Form soll als Tupel ausgegeben werden\n",
    "Beispiel:\n",
    "(Anzahl Zeilen, Anzahl Spalten, Liste der Werte))\n",
    "'''\n",
    "\n",
    "def flatten(m):\n",
    "    variablen = []\n",
    "    for i in range(len(m)):\n",
    "        for a in m[i]:\n",
    "            variablen.append(a)\n",
    "    matrix = [len(m[0]),len(m)]\n",
    "    matrix.append(variablen)\n",
    "    return tuple(matrix)\n",
    "\n",
    "flatten(m5)\n",
    "\n"
   ]
  },
  {
   "cell_type": "code",
   "execution_count": 80,
   "metadata": {},
   "outputs": [
    {
     "data": {
      "text/plain": [
       "((3, 3, [1, 4, 2, 3, 2, 4, 4, 3, 5]), [[1, 4, 2], [3, 2, 4], [4, 3, 5]])"
      ]
     },
     "execution_count": 80,
     "metadata": {},
     "output_type": "execute_result"
    }
   ],
   "source": [
    "#Aufgabe 4\n",
    "\n",
    "def flatten_transpose(m):\n",
    "    if type(m) == tuple:\n",
    "        matrix = m[2]\n",
    "        transpose = []\n",
    "        for k in range(len(m)):\n",
    "            for i in range(k,len(matrix),m[0]):\n",
    "                transpose.append(matrix[i])\n",
    "        return (m[0],m[1],transpose)\n",
    "\n",
    "    else: return transpose3(m)\n",
    "\n",
    "flatten_transpose(flatten(m5)) ,flatten_transpose(m5)"
   ]
  },
  {
   "cell_type": "code",
   "execution_count": 53,
   "metadata": {},
   "outputs": [
    {
     "data": {
      "text/plain": [
       "(3,\n",
       " 3,\n",
       " {(0, 0): 1,\n",
       "  (0, 1): 3,\n",
       "  (0, 2): 4,\n",
       "  (1, 0): 4,\n",
       "  (1, 1): 2,\n",
       "  (1, 2): 3,\n",
       "  (2, 0): 2,\n",
       "  (2, 1): 4,\n",
       "  (2, 2): 5})"
      ]
     },
     "execution_count": 53,
     "metadata": {},
     "output_type": "execute_result"
    }
   ],
   "source": [
    "#Aufgabe 5\n",
    "\n",
    "def as_dict(m):\n",
    "    #List with column and rows\n",
    "    row= len(m)\n",
    "    column = len(m[0]) \n",
    "    #Dict with Values\n",
    "    values = {}\n",
    "    for i in range(len(m)):\n",
    "        for j in range(len(m[i])):\n",
    "            values[i,j] = m[i][j]\n",
    "    matrize = (row, column, values)\n",
    "    return matrize\n",
    "\n",
    "as_dict(m5)"
   ]
  }
 ],
 "metadata": {
  "interpreter": {
   "hash": "780e223e49c598b4aa82d8318c6f1e6744c8b409488091a69e61e480bdf1c54b"
  },
  "kernelspec": {
   "display_name": "Python 3.8.8 64-bit ('base': conda)",
   "language": "python",
   "name": "python3"
  },
  "language_info": {
   "codemirror_mode": {
    "name": "ipython",
    "version": 3
   },
   "file_extension": ".py",
   "mimetype": "text/x-python",
   "name": "python",
   "nbconvert_exporter": "python",
   "pygments_lexer": "ipython3",
   "version": "3.8.8"
  },
  "orig_nbformat": 4
 },
 "nbformat": 4,
 "nbformat_minor": 2
}
