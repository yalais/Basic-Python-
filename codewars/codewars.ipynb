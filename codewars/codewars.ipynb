{
 "cells": [
  {
   "cell_type": "code",
   "execution_count": null,
   "metadata": {},
   "outputs": [],
   "source": [
    "def duplicate_encode(word):\n",
    "    string = ''\n",
    "    for i in word.lower():\n",
    "        if word.lower().count(i)==1: string += '('\n",
    "        else: string += ')'\n",
    "    return string\n",
    "duplicate_encode('b!Cg(!Q!ToWuE(UCLHyyDaRN!A')"
   ]
  },
  {
   "cell_type": "code",
   "execution_count": 25,
   "metadata": {},
   "outputs": [
    {
     "data": {
      "text/plain": [
       "144.0"
      ]
     },
     "execution_count": 25,
     "metadata": {},
     "output_type": "execute_result"
    }
   ],
   "source": [
    "def find_next_square(sq):\n",
    "    a = sq ** 0.5\n",
    "    b= a+1\n",
    "    if a.is_integer(): return b*b\n",
    "    else : return -1\n",
    "find_next_square(121)"
   ]
  },
  {
   "cell_type": "code",
   "execution_count": 8,
   "metadata": {},
   "outputs": [
    {
     "data": {
      "text/plain": [
       "15"
      ]
     },
     "execution_count": 8,
     "metadata": {},
     "output_type": "execute_result"
    }
   ],
   "source": [
    "def nb_year(p0, percent, aug, p):\n",
    "    counter = 0\n",
    "    percent_new = percent /100\n",
    "    while p0 < p:\n",
    "        p0 += int(p0*percent_new) + aug\n",
    "        counter += 1\n",
    "    return counter\n",
    "nb_year(1500, 5, 100, 5000)"
   ]
  },
  {
   "cell_type": "code",
   "execution_count": 16,
   "metadata": {},
   "outputs": [],
   "source": [
    "def maskify(cc):\n",
    "    masked_cc= ''\n",
    "    if len(cc) >= 3:\n",
    "        for i in range(len(cc)-4):\n",
    "            masked_cc += '#'\n",
    "        masked_cc += cc[-4:]\n",
    "        return masked_cc\n",
    "    else: \n",
    "        pass\n",
    "        return cc"
   ]
  },
  {
   "cell_type": "code",
   "execution_count": 31,
   "metadata": {},
   "outputs": [],
   "source": [
    "def is_pangram(s):\n",
    "    for i in s.lower():\n",
    "        if s.lower().count(i) == 1 and len(s) >= 26: return True\n",
    "    else: return False\n",
    "\n",
    "def is_pangram1(s):\n",
    "    s = s.lower()\n",
    "    for i in 'abcdefghijklmnopqrstuvwxyz':\n",
    "        if i not in s:\n",
    "            return False\n",
    "    return True\n",
    "\n",
    "is_pangram1(\"The quick, brown fox jumps over the lazy dog!\")"
   ]
  },
  {
   "cell_type": "code",
   "execution_count": 51,
   "metadata": {},
   "outputs": [
    {
     "data": {
      "text/plain": [
       "False"
      ]
     },
     "execution_count": 51,
     "metadata": {},
     "output_type": "execute_result"
    }
   ],
   "source": [
    "def validate_pin(pin):\n",
    "    if len(pin) == 4 or len(pin) == 6 and pin.isdigit():\n",
    "        for i in pin:\n",
    "            if i in '1234567890': return True\n",
    "            else: return False\n",
    "    else: return False\n",
    "\n",
    "validate_pin('44444-')"
   ]
  },
  {
   "cell_type": "code",
   "execution_count": null,
   "metadata": {},
   "outputs": [],
   "source": [
    "str.isalnum()"
   ]
  }
 ],
 "metadata": {
  "interpreter": {
   "hash": "780e223e49c598b4aa82d8318c6f1e6744c8b409488091a69e61e480bdf1c54b"
  },
  "kernelspec": {
   "display_name": "Python 3.8.8 64-bit ('base': conda)",
   "language": "python",
   "name": "python3"
  },
  "language_info": {
   "codemirror_mode": {
    "name": "ipython",
    "version": 3
   },
   "file_extension": ".py",
   "mimetype": "text/x-python",
   "name": "python",
   "nbconvert_exporter": "python",
   "pygments_lexer": "ipython3",
   "version": "3.8.8"
  },
  "orig_nbformat": 4
 },
 "nbformat": 4,
 "nbformat_minor": 2
}
