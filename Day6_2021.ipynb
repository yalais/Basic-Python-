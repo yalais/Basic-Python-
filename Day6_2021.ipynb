{
 "cells": [
  {
   "cell_type": "code",
   "execution_count": 1,
   "metadata": {},
   "outputs": [
    {
     "name": "stdout",
     "output_type": "stream",
     "text": [
      "300\n",
      "[3, 3, 5, 1, 1, 3, 4, 2, 3, 4, 3, 1, 1, 3, 3, 1, 5, 4, 4, 1, 4, 1, 1, 1, 3, 3, 2, 3, 3, 4, 2, 5, 1, 4, 1, 2, 2, 4, 2, 5, 1, 2, 2, 1, 1, 1, 1, 4, 5, 4, 3, 1, 4, 4, 4, 5, 1, 1, 4, 3, 4, 2, 1, 1, 1, 1, 5, 2, 1, 4, 2, 4, 2, 5, 5, 5, 3, 3, 5, 4, 5, 1, 1, 5, 5, 5, 2, 1, 3, 1, 1, 2, 2, 2, 2, 1, 1, 2, 1, 5, 1, 2, 1, 2, 5, 5, 2, 1, 1, 4, 2, 1, 4, 2, 1, 1, 1, 4, 2, 5, 1, 5, 1, 1, 3, 1, 4, 3, 1, 3, 2, 1, 3, 1, 4, 1, 2, 1, 5, 1, 2, 1, 4, 4, 1, 3, 1, 1, 1, 1, 1, 5, 2, 1, 5, 5, 5, 3, 3, 1, 2, 4, 3, 2, 2, 2, 2, 2, 4, 3, 4, 4, 4, 1, 2, 2, 3, 1, 1, 4, 1, 1, 1, 2, 1, 4, 2, 1, 2, 1, 1, 2, 1, 5, 1, 1, 3, 1, 4, 3, 2, 1, 1, 1, 5, 4, 1, 2, 5, 2, 2, 1, 1, 1, 1, 2, 3, 3, 2, 5, 1, 2, 1, 2, 3, 4, 3, 2, 1, 1, 2, 4, 3, 3, 1, 1, 2, 5, 1, 3, 3, 4, 2, 3, 1, 2, 1, 4, 3, 2, 2, 1, 1, 2, 1, 4, 2, 4, 1, 4, 1, 4, 4, 1, 4, 4, 5, 4, 1, 1, 1, 3, 1, 1, 1, 4, 3, 5, 1, 1, 1, 3, 4, 1, 1, 4, 3, 1, 4, 1, 1, 5, 1, 2, 2, 5, 5, 2, 1, 5]\n"
     ]
    }
   ],
   "source": [
    "with open ('Day6_2021.txt') as f:\n",
    "    data = [int(x) for x in f.readline().split(',')]\n",
    "print(len(data))\n",
    "print(data)"
   ]
  },
  {
   "cell_type": "code",
   "execution_count": 4,
   "metadata": {},
   "outputs": [
    {
     "name": "stdout",
     "output_type": "stream",
     "text": [
      "362740\n"
     ]
    }
   ],
   "source": [
    "zahlliste = data\n",
    "day = 0\n",
    "end_day = 80\n",
    "while day < end_day:\n",
    "    ls = []\n",
    "    for i in zahlliste:\n",
    "        if i == 0:\n",
    "            ls.append(6)\n",
    "            ls.append(8)\n",
    "        else:\n",
    "            ls.append(i-1)\n",
    "    zahlliste = ls\n",
    "    day += 1\n",
    "#print(ls)\n",
    "#print(day)\n",
    "print(len(ls))\n"
   ]
  },
  {
   "cell_type": "code",
   "execution_count": 12,
   "metadata": {},
   "outputs": [
    {
     "ename": "KeyboardInterrupt",
     "evalue": "",
     "output_type": "error",
     "traceback": [
      "\u001b[1;31m---------------------------------------------------------------------------\u001b[0m",
      "\u001b[1;31mKeyboardInterrupt\u001b[0m                         Traceback (most recent call last)",
      "\u001b[1;32m<ipython-input-12-3548e68126e6>\u001b[0m in \u001b[0;36m<module>\u001b[1;34m\u001b[0m\n\u001b[0;32m      1\u001b[0m \u001b[1;32mfor\u001b[0m \u001b[0mk\u001b[0m \u001b[1;32min\u001b[0m \u001b[0mrange\u001b[0m\u001b[1;33m(\u001b[0m\u001b[1;36m1\u001b[0m\u001b[1;33m)\u001b[0m\u001b[1;33m:\u001b[0m\u001b[1;33m\u001b[0m\u001b[1;33m\u001b[0m\u001b[0m\n\u001b[1;32m----> 2\u001b[1;33m     \u001b[1;32mfor\u001b[0m \u001b[0mzahl\u001b[0m \u001b[1;32min\u001b[0m \u001b[0mzahlliste\u001b[0m\u001b[1;33m:\u001b[0m\u001b[1;33m\u001b[0m\u001b[1;33m\u001b[0m\u001b[0m\n\u001b[0m\u001b[0;32m      3\u001b[0m         \u001b[1;32mif\u001b[0m \u001b[0mzahl\u001b[0m \u001b[1;33m==\u001b[0m \u001b[1;36m0\u001b[0m\u001b[1;33m:\u001b[0m\u001b[1;33m\u001b[0m\u001b[1;33m\u001b[0m\u001b[0m\n\u001b[0;32m      4\u001b[0m             \u001b[0mzahlliste\u001b[0m\u001b[1;33m.\u001b[0m\u001b[0mappend\u001b[0m\u001b[1;33m(\u001b[0m\u001b[1;36m8\u001b[0m\u001b[1;33m)\u001b[0m\u001b[1;33m\u001b[0m\u001b[1;33m\u001b[0m\u001b[0m\n\u001b[0;32m      5\u001b[0m             \u001b[0mzahl\u001b[0m \u001b[1;33m=\u001b[0m \u001b[1;36m6\u001b[0m\u001b[1;33m\u001b[0m\u001b[1;33m\u001b[0m\u001b[0m\n",
      "\u001b[1;31mKeyboardInterrupt\u001b[0m: "
     ]
    }
   ],
   "source": [
    "for k in range(1):\n",
    "    for zahl in zahlliste:\n",
    "        if zahl == 0:\n",
    "            zahlliste.append(8)\n",
    "            zahl = 6\n",
    "        else:\n",
    "            zahl += 1\n",
    "print(len(zahlliste))"
   ]
  },
  {
   "cell_type": "code",
   "execution_count": 6,
   "metadata": {},
   "outputs": [
    {
     "name": "stdout",
     "output_type": "stream",
     "text": [
      "zahl\n",
      "zahl\n",
      "zahl\n",
      "zahl\n",
      "zahl\n"
     ]
    }
   ],
   "source": []
  }
 ],
 "metadata": {
  "interpreter": {
   "hash": "780e223e49c598b4aa82d8318c6f1e6744c8b409488091a69e61e480bdf1c54b"
  },
  "kernelspec": {
   "display_name": "Python 3.8.8 64-bit ('base': conda)",
   "language": "python",
   "name": "python3"
  },
  "language_info": {
   "codemirror_mode": {
    "name": "ipython",
    "version": 3
   },
   "file_extension": ".py",
   "mimetype": "text/x-python",
   "name": "python",
   "nbconvert_exporter": "python",
   "pygments_lexer": "ipython3",
   "version": "3.8.8"
  },
  "orig_nbformat": 4
 },
 "nbformat": 4,
 "nbformat_minor": 2
}
