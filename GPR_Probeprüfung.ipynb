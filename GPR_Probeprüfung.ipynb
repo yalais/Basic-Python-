{
 "cells": [
  {
   "cell_type": "code",
   "execution_count": 1,
   "id": "96caba4f",
   "metadata": {},
   "outputs": [
    {
     "name": "stdout",
     "output_type": "stream",
     "text": [
      "8 False\n",
      "9 False\n",
      "10 False\n",
      "11 True\n",
      "12 False\n",
      "13 True\n",
      "14 False\n",
      "15 False\n",
      "16 False\n",
      "17 True\n",
      "18 False\n",
      "19 True\n",
      "20 False\n"
     ]
    }
   ],
   "source": [
    "def is_prime(eingabe):\n",
    "    if eingabe == 1:\n",
    "        return False\n",
    "    else:\n",
    "        for i in range(2,eingabe):\n",
    "            if eingabe % i == 0:\n",
    "                return False\n",
    "        return True\n",
    "\n",
    "is_prime(8)\n",
    "for i in range(8,21):\n",
    "    print(i, is_prime(i))"
   ]
  },
  {
   "cell_type": "code",
   "execution_count": 2,
   "metadata": {},
   "outputs": [
    {
     "data": {
      "text/plain": [
       "(11, 13)"
      ]
     },
     "execution_count": 2,
     "metadata": {},
     "output_type": "execute_result"
    }
   ],
   "source": [
    "#3a\n",
    "\n",
    "def next_prime(n):\n",
    "    n = n+1\n",
    "    while not is_prime(n):\n",
    "        n = n+1\n",
    "    return n\n",
    "\n",
    "next_prime(8),next_prime(11)"
   ]
  },
  {
   "cell_type": "code",
   "execution_count": 3,
   "id": "bb33f6b3",
   "metadata": {},
   "outputs": [
    {
     "data": {
      "text/plain": [
       "(1021, 1031)"
      ]
     },
     "execution_count": 3,
     "metadata": {},
     "output_type": "execute_result"
    }
   ],
   "source": [
    "#3b\n",
    "\n",
    "def prime_dist(n,x):\n",
    "    lst = [z for z in range(n,n*10+1) if is_prime(z) == True]\n",
    "    for i in range(len(lst)):\n",
    "        if lst[i+1] - lst[i] >= x:\n",
    "            return (lst[i], lst[i+1])\n",
    "        \n",
    "prime_dist(1000,10)\n"
   ]
  },
  {
   "cell_type": "code",
   "execution_count": 4,
   "id": "f5be1af0",
   "metadata": {},
   "outputs": [],
   "source": [
    "#Etienne\n",
    "\n",
    "def living_neighbors(grid, row, col):\n",
    "  min_rows = 0\n",
    "  max_rows = len(grid)\n",
    "  min_cols = 0\n",
    "  max_cols = len(grid[0])\n",
    "  \n",
    "  check_up = (row + 1, col)\n",
    "  check_down = (row -1, col)\n",
    "  check_left = (row, col - 1)\n",
    "  check_right = (row, col + 1)\n",
    "  \n",
    "  do_this_checks = []\n",
    "  \n",
    "  if(check_up[0] < max_rows):\n",
    "    do_this_checks.append(check_up)\n",
    "  if(check_down[0] > min_rows):\n",
    "    do_this_checks.append(check_down)\n",
    "  if(check_left[1] > min_cols):\n",
    "    do_this_checks.append(check_left)\n",
    "  if(check_right[1] < max_cols):\n",
    "    do_this_checks.append(check_right)\n",
    "  \n",
    "\n",
    "  summ_living = 0\n",
    "  try:\n",
    "    for check in do_this_checks:\n",
    "\n",
    "      if (grid[check[0]][check[1]]) == '#':\n",
    "        summ_living = summ_living +1\n",
    "  except:\n",
    "    print(\"The Game Field is not as big as you thought\")\n",
    "  print(summ_living)\n",
    "  return summ_living\n",
    "    \n",
    "\n",
    "grid = ['..........', '.###.##...', '.....##...', '.......##.', '.......##.', '..........']"
   ]
  },
  {
   "cell_type": "code",
   "execution_count": 5,
   "id": "8c27f1ff",
   "metadata": {},
   "outputs": [],
   "source": [
    "#Etienne\n",
    "\n",
    "def step(grid):\n",
    "  next_gid = grid.copy()\n",
    "  for index_row, row in enumerate(grid):\n",
    "    for index_field, field in enumerate(row):\n",
    "      if field == '.':\n",
    "        if (living_neighbors(grid, index_row, index_field)) == 2:\n",
    "          next_gid[index_row]= next_gid[index_row][0:index_field] + '#' + next_gid[index_row][index_field+1:]\n",
    "      elif field == '#':\n",
    "        if(living_neighbors(grid, index_row, index_field) < 2):\n",
    "          next_gid[index_row]= next_gid[index_row][0:index_field] + '.' + next_gid[index_row][index_field+1:]\n",
    "        elif (living_neighbors(grid, index_row, index_field) == 2 or living_neighbors(grid, index_row, index_field) == 3)  :\n",
    "          next_gid[index_row]= next_gid[index_row][0:index_field] + '#' + next_gid[index_row][index_field+1:]\n",
    "        elif (living_neighbors(grid, index_row, index_field) > 3):\n",
    "          next_gid[index_row]= next_gid[index_row][0:index_field] + '.' + next_gid[index_row][index_field+1:]\n",
    "  return next_gid"
   ]
  },
  {
   "cell_type": "code",
   "execution_count": 6,
   "id": "8861b407",
   "metadata": {},
   "outputs": [
    {
     "name": "stdout",
     "output_type": "stream",
     "text": [
      "True False True\n"
     ]
    }
   ],
   "source": [
    "# Aufgabe 5 IoT Data Check\n",
    "\n",
    "def is_ok(temperature, status):\n",
    "    if status == 'ok' and temperature >= -10 and temperature <= 45: return True\n",
    "    elif status == 'off' and temperature == 0: return True\n",
    "    elif status == 'fault': return True\n",
    "    else: return False\n",
    "\n",
    "print(is_ok(30, 'ok'), is_ok(-11, 'off'), is_ok(-10, 'ok'))"
   ]
  },
  {
   "cell_type": "code",
   "execution_count": 3,
   "id": "a92476b6",
   "metadata": {},
   "outputs": [],
   "source": [
    "# 5b\n",
    "\n",
    "def count_errors(file_name):\n",
    "    false = 0\n",
    "    with open (file_name) as file:\n",
    "        data = file.readlines()\n",
    "        data = [line.strip() for line in data]\n",
    "    for i in range(len(data)):\n",
    "        if is_ok(data[2], data[3]) == False: false += 1\n",
    "        else: continue\n",
    "    return false"
   ]
  },
  {
   "cell_type": "code",
   "execution_count": 4,
   "id": "d5d2b438",
   "metadata": {},
   "outputs": [],
   "source": [
    "# 5c\n",
    "def count_errors_mult(file):\n",
    "    total_faults = 0\n",
    "    for i in range(len(file)):\n",
    "        total_faults += count_errors(i)\n",
    "    return total_faults"
   ]
  },
  {
   "cell_type": "code",
   "execution_count": 49,
   "id": "5e0de713",
   "metadata": {},
   "outputs": [],
   "source": [
    "#6b\n",
    "def collect_sales_data(file_name, custommer_no):\n",
    "    with open(file_name) as f:\n",
    "        data = f.readline().split('\\\\t')\n",
    "    lst = []\n",
    "    for index,i in enumerate(data): \n",
    "        if i == 'Kunde' or i=='Artikel' or i=='Anzahl': \n",
    "            lst.append(index)\n",
    "        else: continue\n",
    "\n",
    "\n",
    "    data = f.readlines()\n",
    "    data = [line.strip() for line in data]\n",
    "    return lst\n"
   ]
  },
  {
   "cell_type": "code",
   "execution_count": 40,
   "id": "7556c005",
   "metadata": {},
   "outputs": [
    {
     "data": {
      "text/plain": [
       "['Auftrag',\n",
       " 'Datum',\n",
       " 'Kunde',\n",
       " 'Artikel',\n",
       " 'Stk-Preis',\n",
       " 'Anzahl',\n",
       " 'Bezahldatum',\n",
       " 'Lieferdatum',\n",
       " '\\n']"
      ]
     },
     "execution_count": 40,
     "metadata": {},
     "output_type": "execute_result"
    }
   ],
   "source": [
    "    with open('sales.txt') as f:\n",
    "        data = f.readline().split('\\\\t')\n",
    "    data"
   ]
  },
  {
   "cell_type": "code",
   "execution_count": 50,
   "id": "45fada85",
   "metadata": {},
   "outputs": [
    {
     "data": {
      "text/plain": [
       "[2, 3, 5]"
      ]
     },
     "execution_count": 50,
     "metadata": {},
     "output_type": "execute_result"
    }
   ],
   "source": [
    "collect_sales_data('sales.txt','123456')"
   ]
  },
  {
   "cell_type": "code",
   "execution_count": 54,
   "id": "4102e5fa",
   "metadata": {},
   "outputs": [
    {
     "name": "stdout",
     "output_type": "stream",
     "text": [
      "Artikel -> Anzahl\n",
      "50000 -> 3\n",
      "123 -> 2\n",
      "3111 -> 1\n"
     ]
    }
   ],
   "source": [
    "# Lösung Ben\n",
    "def collect_data_sales(file_name, customer_nr: int):\n",
    "    with open(file_name) as file:\n",
    "\n",
    "        # Kopfzeile einlesen\n",
    "        head = file.readline()\n",
    "        new_head = head.split(\"\\\\t\")[:-1]\n",
    "\n",
    "        # Datensatz einlesen\n",
    "        rows = file.readlines()\n",
    "        new_rows = [x.split(\"\\\\t\")[:-1] for x in rows]\n",
    "\n",
    "        #print(rows)\n",
    "        #print(new_rows)\n",
    "\n",
    "        # Kopfzeile analysieren\n",
    "        index_kunde = 0\n",
    "        index_artikel = 0\n",
    "        index_anzahl = 0\n",
    "\n",
    "        for index, col in enumerate(new_head):\n",
    "            if \"Kunde\" == col:\n",
    "                index_kunde = index\n",
    "                #print(index_kunde)\n",
    "            elif \"Artikel\" == col:\n",
    "                index_artikel = index\n",
    "                #print(index_artikel)\n",
    "            elif \"Anzahl\" == col:\n",
    "                index_anzahl = index\n",
    "                #print(index_anzahl)\n",
    "\n",
    "    # Datensatz analysieren\n",
    "    output = {}\n",
    "    for i in new_rows:\n",
    "        if int(i[index_kunde]) == customer_nr:\n",
    "            if i[index_artikel] not in output:\n",
    "                output[i[index_artikel]] = int(i[index_anzahl])\n",
    "            else:\n",
    "                output[i[index_artikel]] += int(i[index_anzahl])\n",
    "    return output\n",
    "\n",
    "#print(collect_data_sales(\"gpr_pruefung_A6_datei\", 12345))\n",
    "\n",
    "def print_sales_data(data):\n",
    "    print(\"Artikel -> Anzahl\")\n",
    "    for key, value in data.items():\n",
    "        print(str(key) + \" -> \" + str(value))\n",
    "\n",
    "def articles(file_name, customer_no):\n",
    "    data = collect_data_sales(file_name, customer_no)\n",
    "    print_sales_data(data)\n",
    "\n",
    "articles(\"sales.txt\", 12345)"
   ]
  }
 ],
 "metadata": {
  "kernelspec": {
   "display_name": "Python 3",
   "language": "python",
   "name": "python3"
  },
  "language_info": {
   "codemirror_mode": {
    "name": "ipython",
    "version": 3
   },
   "file_extension": ".py",
   "mimetype": "text/x-python",
   "name": "python",
   "nbconvert_exporter": "python",
   "pygments_lexer": "ipython3",
   "version": "3.8.8"
  }
 },
 "nbformat": 4,
 "nbformat_minor": 5
}
