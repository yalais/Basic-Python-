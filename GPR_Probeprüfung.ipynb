{
 "cells": [
  {
   "cell_type": "code",
   "execution_count": 6,
   "id": "96caba4f",
   "metadata": {},
   "outputs": [
    {
     "name": "stdout",
     "output_type": "stream",
     "text": [
      "8 False\n",
      "9 False\n",
      "10 False\n",
      "11 True\n",
      "12 False\n",
      "13 True\n",
      "14 False\n",
      "15 False\n",
      "16 False\n",
      "17 True\n",
      "18 False\n",
      "19 True\n",
      "20 False\n"
     ]
    }
   ],
   "source": [
    "def is_prime(eingabe):\n",
    "    if eingabe == 1:\n",
    "        return False\n",
    "    else:\n",
    "        for i in range(2,eingabe):\n",
    "            if eingabe % i == 0:\n",
    "                return False\n",
    "        return True\n",
    "\n",
    "is_prime(8)\n",
    "for i in range(8,21):\n",
    "    print(i, is_prime(i))"
   ]
  },
  {
   "cell_type": "code",
   "execution_count": 10,
   "metadata": {},
   "outputs": [
    {
     "data": {
      "text/plain": [
       "(11, 13)"
      ]
     },
     "execution_count": 10,
     "metadata": {},
     "output_type": "execute_result"
    }
   ],
   "source": [
    "#3a\n",
    "\n",
    "def next_prime(n):\n",
    "    n = n+1\n",
    "    while not is_prime(n):\n",
    "        n = n+1\n",
    "    return n\n",
    "\n",
    "next_prime(8),next_prime(11)"
   ]
  },
  {
   "cell_type": "code",
   "execution_count": 69,
   "id": "bb33f6b3",
   "metadata": {},
   "outputs": [
    {
     "data": {
      "text/plain": [
       "(1021, 1031)"
      ]
     },
     "execution_count": 69,
     "metadata": {},
     "output_type": "execute_result"
    }
   ],
   "source": [
    "#3b\n",
    "\n",
    "def prime_dist(n,x):\n",
    "    lst = [z for z in range(n,n*10+1) if is_prime(z) == True]\n",
    "    for i in range(len(lst)):\n",
    "        if lst[i+1] - lst[i] >= x:\n",
    "            return (lst[i], lst[i+1])\n",
    "        \n",
    "prime_dist(1000,10)\n"
   ]
  },
  {
   "cell_type": "code",
   "execution_count": null,
   "id": "68e04bf0",
   "metadata": {},
   "outputs": [],
   "source": []
  }
 ],
 "metadata": {
  "kernelspec": {
   "display_name": "Python 3",
   "language": "python",
   "name": "python3"
  },
  "language_info": {
   "codemirror_mode": {
    "name": "ipython",
    "version": 3
   },
   "file_extension": ".py",
   "mimetype": "text/x-python",
   "name": "python",
   "nbconvert_exporter": "python",
   "pygments_lexer": "ipython3",
   "version": "3.8.8"
  }
 },
 "nbformat": 4,
 "nbformat_minor": 5
}
