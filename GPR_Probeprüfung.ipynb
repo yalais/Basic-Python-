{
 "cells": [
  {
   "cell_type": "code",
   "execution_count": 2,
   "id": "96caba4f",
   "metadata": {},
   "outputs": [
    {
     "name": "stdout",
     "output_type": "stream",
     "text": [
      "1 2 2\n"
     ]
    }
   ],
   "source": [
    "def fun(a,b,c):\n",
    "    a = b +c\n",
    "    b = 0\n",
    "    return a-c\n",
    "a,b,c = 1,2,3\n",
    "c = fun(a,b,c)\n",
    "print(a,b,c)"
   ]
  },
  {
   "cell_type": "code",
   "execution_count": 14,
   "metadata": {},
   "outputs": [
    {
     "data": {
      "text/plain": [
       "([-3, -1, 1, 3], [5, 7, 9, 11], {-3: 5, -1: 7, 1: 9, 3: 11})"
      ]
     },
     "execution_count": 14,
     "metadata": {},
     "output_type": "execute_result"
    }
   ],
   "source": [
    "#aufgabe 3a\n",
    "def is_prime(n):\n",
    "    if n != 0 and n != 1:\n",
    "        if n % 2 == 0: return False \n",
    "        else: return True\n",
    "    else: return False\n",
    "\n",
    "is_prime(4),is_prime(6),is_prime(3),is_prime(5)\n",
    "\n",
    "def next_prime(n):\n",
    "    \n",
    "    lst = [i for i in range(n-4,n+5) if is_prime(i) == True]\n",
    "    abstand = [(a-n) for a in lst]\n",
    "    dictio = dict(zip(abstand,lst))\n",
    "    return abstand, lst, dictio\n",
    "\n",
    "next_prime(8)\n",
    "#mindestabstand auslesen"
   ]
  },
  {
   "cell_type": "code",
   "execution_count": 37,
   "id": "bb33f6b3",
   "metadata": {},
   "outputs": [
    {
     "name": "stdout",
     "output_type": "stream",
     "text": [
      "(3, 9)\n",
      "(9, 23)\n"
     ]
    }
   ],
   "source": [
    "#Aufgabe3b\n",
    "\n",
    "lst2 = [ x for x in range(3,3*10) if is_prime(x) == True]\n",
    "lst2\n",
    "lst3 = [1,2,3,9,23]\n",
    "\n",
    "for i in range(len(lst3)-1):\n",
    "    if lst3[i]+lst3[i+1] >= 6:\n",
    "        print((lst3[i],lst3[i+1]))\n",
    "\n"
   ]
  }
 ],
 "metadata": {
  "kernelspec": {
   "display_name": "Python 3",
   "language": "python",
   "name": "python3"
  },
  "language_info": {
   "codemirror_mode": {
    "name": "ipython",
    "version": 3
   },
   "file_extension": ".py",
   "mimetype": "text/x-python",
   "name": "python",
   "nbconvert_exporter": "python",
   "pygments_lexer": "ipython3",
   "version": "3.9.6"
  }
 },
 "nbformat": 4,
 "nbformat_minor": 5
}
