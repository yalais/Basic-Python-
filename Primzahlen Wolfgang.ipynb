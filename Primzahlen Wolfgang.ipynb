{
 "cells": [
  {
   "cell_type": "code",
   "execution_count": 5,
   "metadata": {},
   "outputs": [
    {
     "name": "stdout",
     "output_type": "stream",
     "text": [
      "False\n",
      "True\n",
      "True\n",
      "False\n",
      "True\n"
     ]
    }
   ],
   "source": [
    "#Aufgabe 1\n",
    "def is_prime(eingabe):\n",
    "    if eingabe == 1:\n",
    "        return False\n",
    "    else:\n",
    "        for i in range(2,eingabe):\n",
    "            if eingabe % i == 0:\n",
    "                return False\n",
    "        return True\n",
    "\n",
    "print(is_prime(1))\n",
    "print(is_prime(2))\n",
    "print(is_prime(3))\n",
    "print(is_prime(4))\n",
    "print(is_prime(47))"
   ]
  },
  {
   "cell_type": "code",
   "execution_count": 10,
   "metadata": {},
   "outputs": [
    {
     "name": "stdout",
     "output_type": "stream",
     "text": [
      "[2, 3, 5, 7, 11, 13, 17, 19, 23, 29, 31, 37, 41, 43, 47, 53, 59, 61, 67, 71, 73, 79, 83, 89, 97]\n"
     ]
    }
   ],
   "source": [
    "#Aufgabe 2\n",
    "Primzahlen = []\n",
    "keine_Primzahlen = []\n",
    "for i in range(1,100):\n",
    "    if is_prime(i) == True:\n",
    "        Primzahlen.append(i)\n",
    "    else: \n",
    "        keine_Primzahlen.append(i)\n",
    "    \n",
    "print(Primzahlen)"
   ]
  },
  {
   "cell_type": "code",
   "execution_count": null,
   "metadata": {},
   "outputs": [],
   "source": [
    "#Aufgabe 3"
   ]
  },
  {
   "cell_type": "code",
   "execution_count": 20,
   "metadata": {},
   "outputs": [
    {
     "name": "stdout",
     "output_type": "stream",
     "text": [
      "[1, 2, 2, 4, 2, 4, 2, 4, 6, 2, 6, 4, 2, 4, 6, 6, 2, 6, 4, 2, 6, 4, 6, 8]\n"
     ]
    }
   ],
   "source": [
    "#Aufgabe 4\n",
    "abstaende = []\n",
    "for i in range(len(Primzahlen)-1):\n",
    "    abstand = Primzahlen[i+1] - Primzahlen[i]\n",
    "    abstaende.append(abstand)\n",
    "print(abstaende)\n",
    "\n",
    "\n"
   ]
  },
  {
   "cell_type": "code",
   "execution_count": 22,
   "metadata": {},
   "outputs": [
    {
     "data": {
      "text/plain": [
       "[(1, 1), (8, 2), (7, 4), (7, 6), (1, 8)]"
      ]
     },
     "execution_count": 22,
     "metadata": {},
     "output_type": "execute_result"
    }
   ],
   "source": [
    "#Aufgabe 5\n",
    "abstand = [1,2,4,6,8]\n",
    "\n",
    "\n",
    "def loesung(data):\n",
    "    counted = []\n",
    "    abstaende = [1, 2, 2, 4, 2, 4, 2, 4, 6, 2, 6, 4, 2, 4, 6, 6, 2, 6, 4, 2, 6, 4, 6, 8]\n",
    "    for i in data:\n",
    "        how_many_times = abstaende.count(i)\n",
    "        counted.append(how_many_times)\n",
    "    result = list(zip(counted, data))\n",
    "    return result\n",
    "    \n",
    "loesung(abstand)\n",
    "\n"
   ]
  },
  {
   "cell_type": "code",
   "execution_count": 25,
   "metadata": {},
   "outputs": [
    {
     "name": "stdout",
     "output_type": "stream",
     "text": [
      "{1: 1, 2: 8, 4: 7, 6: 7, 8: 1}\n"
     ]
    }
   ],
   "source": [
    "#Aufagbe 5 Mit Dictionnary\n",
    "\n",
    "thisdict = {}\n",
    "for i in abstaende:\n",
    "    x = 0\n",
    "    for y in abstaende:\n",
    "        if y == i:\n",
    "            x += 1\n",
    "    thisdict[i] = x\n",
    "print(thisdict)"
   ]
  }
 ],
 "metadata": {
  "interpreter": {
   "hash": "780e223e49c598b4aa82d8318c6f1e6744c8b409488091a69e61e480bdf1c54b"
  },
  "kernelspec": {
   "display_name": "Python 3.8.8 64-bit ('base': conda)",
   "language": "python",
   "name": "python3"
  },
  "language_info": {
   "codemirror_mode": {
    "name": "ipython",
    "version": 3
   },
   "file_extension": ".py",
   "mimetype": "text/x-python",
   "name": "python",
   "nbconvert_exporter": "python",
   "pygments_lexer": "ipython3",
   "version": "3.8.8"
  },
  "orig_nbformat": 4
 },
 "nbformat": 4,
 "nbformat_minor": 2
}
